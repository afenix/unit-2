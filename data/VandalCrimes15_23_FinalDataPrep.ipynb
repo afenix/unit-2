{
 "cells": [
  {
   "cell_type": "code",
   "execution_count": 1,
   "id": "eb35b0e0",
   "metadata": {},
   "outputs": [
    {
     "name": "stdout",
     "output_type": "stream",
     "text": [
      "Requirement already satisfied: geopandas in c:\\users\\asher\\documents\\uw_mad\\geog575\\unit-2\\.venv\\lib\\site-packages (0.14.3)\n",
      "Requirement already satisfied: pandas in c:\\users\\asher\\documents\\uw_mad\\geog575\\unit-2\\.venv\\lib\\site-packages (2.2.0)\n",
      "Requirement already satisfied: matplotlib in c:\\users\\asher\\documents\\uw_mad\\geog575\\unit-2\\.venv\\lib\\site-packages (3.8.3)\n",
      "Requirement already satisfied: folium in c:\\users\\asher\\documents\\uw_mad\\geog575\\unit-2\\.venv\\lib\\site-packages (0.15.1)\n",
      "Requirement already satisfied: numpy in c:\\users\\asher\\documents\\uw_mad\\geog575\\unit-2\\.venv\\lib\\site-packages (1.26.4)\n",
      "Requirement already satisfied: fiona>=1.8.21 in c:\\users\\asher\\documents\\uw_mad\\geog575\\unit-2\\.venv\\lib\\site-packages (from geopandas) (1.9.5)\n",
      "Requirement already satisfied: packaging in c:\\users\\asher\\documents\\uw_mad\\geog575\\unit-2\\.venv\\lib\\site-packages (from geopandas) (23.2)\n",
      "Requirement already satisfied: pyproj>=3.3.0 in c:\\users\\asher\\documents\\uw_mad\\geog575\\unit-2\\.venv\\lib\\site-packages (from geopandas) (3.6.1)\n",
      "Requirement already satisfied: shapely>=1.8.0 in c:\\users\\asher\\documents\\uw_mad\\geog575\\unit-2\\.venv\\lib\\site-packages (from geopandas) (2.0.2)\n",
      "Requirement already satisfied: python-dateutil>=2.8.2 in c:\\users\\asher\\documents\\uw_mad\\geog575\\unit-2\\.venv\\lib\\site-packages (from pandas) (2.8.2)\n",
      "Requirement already satisfied: pytz>=2020.1 in c:\\users\\asher\\documents\\uw_mad\\geog575\\unit-2\\.venv\\lib\\site-packages (from pandas) (2024.1)\n",
      "Requirement already satisfied: tzdata>=2022.7 in c:\\users\\asher\\documents\\uw_mad\\geog575\\unit-2\\.venv\\lib\\site-packages (from pandas) (2024.1)\n",
      "Requirement already satisfied: contourpy>=1.0.1 in c:\\users\\asher\\documents\\uw_mad\\geog575\\unit-2\\.venv\\lib\\site-packages (from matplotlib) (1.2.0)\n",
      "Requirement already satisfied: cycler>=0.10 in c:\\users\\asher\\documents\\uw_mad\\geog575\\unit-2\\.venv\\lib\\site-packages (from matplotlib) (0.12.1)\n",
      "Requirement already satisfied: fonttools>=4.22.0 in c:\\users\\asher\\documents\\uw_mad\\geog575\\unit-2\\.venv\\lib\\site-packages (from matplotlib) (4.48.1)\n",
      "Requirement already satisfied: kiwisolver>=1.3.1 in c:\\users\\asher\\documents\\uw_mad\\geog575\\unit-2\\.venv\\lib\\site-packages (from matplotlib) (1.4.5)\n",
      "Requirement already satisfied: pillow>=8 in c:\\users\\asher\\documents\\uw_mad\\geog575\\unit-2\\.venv\\lib\\site-packages (from matplotlib) (10.2.0)\n",
      "Requirement already satisfied: pyparsing>=2.3.1 in c:\\users\\asher\\documents\\uw_mad\\geog575\\unit-2\\.venv\\lib\\site-packages (from matplotlib) (3.1.1)\n",
      "Requirement already satisfied: branca>=0.6.0 in c:\\users\\asher\\documents\\uw_mad\\geog575\\unit-2\\.venv\\lib\\site-packages (from folium) (0.7.1)\n",
      "Requirement already satisfied: jinja2>=2.9 in c:\\users\\asher\\documents\\uw_mad\\geog575\\unit-2\\.venv\\lib\\site-packages (from folium) (3.1.3)\n",
      "Requirement already satisfied: requests in c:\\users\\asher\\documents\\uw_mad\\geog575\\unit-2\\.venv\\lib\\site-packages (from folium) (2.31.0)\n",
      "Requirement already satisfied: xyzservices in c:\\users\\asher\\documents\\uw_mad\\geog575\\unit-2\\.venv\\lib\\site-packages (from folium) (2023.10.1)\n",
      "Requirement already satisfied: attrs>=19.2.0 in c:\\users\\asher\\documents\\uw_mad\\geog575\\unit-2\\.venv\\lib\\site-packages (from fiona>=1.8.21->geopandas) (23.2.0)\n",
      "Requirement already satisfied: certifi in c:\\users\\asher\\documents\\uw_mad\\geog575\\unit-2\\.venv\\lib\\site-packages (from fiona>=1.8.21->geopandas) (2024.2.2)\n",
      "Requirement already satisfied: click~=8.0 in c:\\users\\asher\\documents\\uw_mad\\geog575\\unit-2\\.venv\\lib\\site-packages (from fiona>=1.8.21->geopandas) (8.1.7)\n",
      "Requirement already satisfied: click-plugins>=1.0 in c:\\users\\asher\\documents\\uw_mad\\geog575\\unit-2\\.venv\\lib\\site-packages (from fiona>=1.8.21->geopandas) (1.1.1)\n",
      "Requirement already satisfied: cligj>=0.5 in c:\\users\\asher\\documents\\uw_mad\\geog575\\unit-2\\.venv\\lib\\site-packages (from fiona>=1.8.21->geopandas) (0.7.2)\n",
      "Requirement already satisfied: six in c:\\users\\asher\\documents\\uw_mad\\geog575\\unit-2\\.venv\\lib\\site-packages (from fiona>=1.8.21->geopandas) (1.16.0)\n",
      "Requirement already satisfied: setuptools in c:\\users\\asher\\documents\\uw_mad\\geog575\\unit-2\\.venv\\lib\\site-packages (from fiona>=1.8.21->geopandas) (65.5.0)\n",
      "Requirement already satisfied: MarkupSafe>=2.0 in c:\\users\\asher\\documents\\uw_mad\\geog575\\unit-2\\.venv\\lib\\site-packages (from jinja2>=2.9->folium) (2.1.5)\n",
      "Requirement already satisfied: charset-normalizer<4,>=2 in c:\\users\\asher\\documents\\uw_mad\\geog575\\unit-2\\.venv\\lib\\site-packages (from requests->folium) (3.3.2)\n",
      "Requirement already satisfied: idna<4,>=2.5 in c:\\users\\asher\\documents\\uw_mad\\geog575\\unit-2\\.venv\\lib\\site-packages (from requests->folium) (3.6)\n",
      "Requirement already satisfied: urllib3<3,>=1.21.1 in c:\\users\\asher\\documents\\uw_mad\\geog575\\unit-2\\.venv\\lib\\site-packages (from requests->folium) (2.2.0)\n",
      "Requirement already satisfied: colorama in c:\\users\\asher\\documents\\uw_mad\\geog575\\unit-2\\.venv\\lib\\site-packages (from click~=8.0->fiona>=1.8.21->geopandas) (0.4.6)\n",
      "Note: you may need to restart the kernel to use updated packages.\n"
     ]
    }
   ],
   "source": [
    "%pip install geopandas pandas matplotlib folium numpy\n",
    "\n",
    "import os\n",
    "import geopandas as gpd\n",
    "import pandas as pd # data processing, CSV file I/O (e.g. pd.read_csv)"
   ]
  },
  {
   "cell_type": "code",
   "execution_count": 2,
   "id": "db3dcb54",
   "metadata": {},
   "outputs": [
    {
     "name": "stdout",
     "output_type": "stream",
     "text": [
      "Found the directory! Here's what's inside:\n",
      "['aggregated_crime_data23v3.csv', 'all_crimes.csv', 'CrimeData-00-2018.csv', 'CrimeData-2015.csv', 'CrimeData-2016.csv', 'CrimeData-2017.csv', 'CrimeData-2018.csv', 'CrimeData-2019.csv', 'CrimeData-2020.csv', 'CrimeData-2021.csv', 'CrimeData-2022.csv', 'CrimeData-2023.csv', 'Neighborhood_Boundaries.cpg', 'Neighborhood_Boundaries.dbf', 'Neighborhood_Boundaries.geojson', 'Neighborhood_Boundaries.prj', 'Neighborhood_Boundaries.shp', 'Neighborhood_Boundaries.shx']\n",
      "['raw/CrimeData-2015.csv', 'raw/CrimeData-2016.csv', 'raw/CrimeData-2017.csv', 'raw/CrimeData-2018.csv', 'raw/CrimeData-2019.csv', 'raw/CrimeData-2020.csv', 'raw/CrimeData-2021.csv', 'raw/CrimeData-2022.csv', 'raw/CrimeData-2023.csv']\n",
      "  Address   CaseNumber CrimeAgainst     Neighborhood  OccurDate  OccurTime  \\\n",
      "0     NaN   15-X197430       Person         Piedmont  5/12/2015       1400   \n",
      "1     NaN  15-X4282999       Person     Buckman West   5/1/2015       2143   \n",
      "2     NaN  15-X4283033       Person  University Park   5/1/2015       1625   \n",
      "\n",
      "    OffenseCategory     OffenseType  OpenDataLat  OpenDataLon  OpenDataX  \\\n",
      "0  Assault Offenses    Intimidation          NaN          NaN        NaN   \n",
      "1  Assault Offenses  Simple Assault          NaN          NaN        NaN   \n",
      "2  Assault Offenses  Simple Assault          NaN          NaN        NaN   \n",
      "\n",
      "   OpenDataY ReportDate  OffenseCount  \n",
      "0        NaN  5/12/2015             1  \n",
      "1        NaN   5/1/2015             1  \n",
      "2        NaN   5/1/2015             1  \n"
     ]
    }
   ],
   "source": [
    "#Ensure that the data is in the correct directory\n",
    "data_path = \"raw/\"\n",
    "if os.path.exists(data_path):\n",
    "    print(\"Found the directory! Here's what's inside:\")\n",
    "    print(os.listdir(data_path))\n",
    "else:\n",
    "    print(\"Directory not found. Check your map and compass!\")\n",
    "\n",
    "# Assuming the directory exists, let's proceed to load the files\n",
    "# ADD REMOVE FILES HERE AS NEEDED\n",
    "file_names = [\n",
    "    \"CrimeData-2015.csv\",\n",
    "    \"CrimeData-2016.csv\",\n",
    "    \"CrimeData-2017.csv\",\n",
    "    \"CrimeData-2018.csv\",\n",
    "    \"CrimeData-2019.csv\",\n",
    "    \"CrimeData-2020.csv\",\n",
    "    \"CrimeData-2021.csv\",\n",
    "    \"CrimeData-2022.csv\",\n",
    "    \"CrimeData-2023.csv\"\n",
    "]\n",
    "\n",
    "# Correctly construct the full file paths\n",
    "all_files = [os.path.join(data_path, file_name) for file_name in file_names]\n",
    "print(all_files)\n",
    "# Load and concatenate the CSV files into a single DataFrame\n",
    "try:\n",
    "    crimes = pd.concat((pd.read_csv(f) for f in all_files))\n",
    "    # Display the first three rows to verify the data\n",
    "    print(crimes.head(3))\n",
    "except FileNotFoundError as e:\n",
    "    print(f\"Error loading files: {e}\")"
   ]
  },
  {
   "cell_type": "code",
   "execution_count": 3,
   "id": "6c7b7d51",
   "metadata": {},
   "outputs": [],
   "source": [
    "# Ensure 'OccurDate' is a datetime type\n",
    "crimes['OccurDate'] = pd.to_datetime(crimes['OccurDate'])\n",
    "# Extract month and year from 'OccurDate'\n",
    "crimes['Month'] = crimes['OccurDate'].dt.month\n",
    "crimes['Year'] = crimes['OccurDate'].dt.year\n",
    "crimes['Month_Year'] = crimes['OccurDate'].dt.strftime('%Y-%m')"
   ]
  },
  {
   "cell_type": "code",
   "execution_count": 5,
   "id": "74c9416d",
   "metadata": {},
   "outputs": [],
   "source": [
    "neighborhoods_gdf = gpd.read_file('raw/Neighborhood_Boundaries.shp')"
   ]
  },
  {
   "cell_type": "code",
   "execution_count": 6,
   "id": "d5a5bc90",
   "metadata": {},
   "outputs": [],
   "source": [
    "crimes['Neighborhood'] = crimes['Neighborhood'].str.lower().str.strip()\n",
    "neighborhoods_gdf['MAPLABEL'] = neighborhoods_gdf['MAPLABEL'].str.lower().str.strip()"
   ]
  },
  {
   "cell_type": "code",
   "execution_count": 7,
   "id": "4c6c30f0",
   "metadata": {},
   "outputs": [],
   "source": [
    "# Assuming 'neighborhood_column_in_csv' and 'neighborhood_column_in_shapefile' are the correct column names\n",
    "unique_crime_neighborhoods = set(crimes['Neighborhood'].unique())\n",
    "unique_shapefile_neighborhoods = set(neighborhoods_gdf['MAPLABEL'].unique())"
   ]
  },
  {
   "cell_type": "code",
   "execution_count": 8,
   "id": "429c1ad1",
   "metadata": {},
   "outputs": [
    {
     "name": "stdout",
     "output_type": "stream",
     "text": [
      "Names in crime data not found in shapefile: ['ardenwald', 'argay', 'buckman east', 'buckman west', 'downtown', 'healy heights', 'mt scott-arleta', 'mt tabor', 'nan', 'northwest', 'northwest industrial', 'old town/chinatown', 'pearl', 'st johns']\n",
      "Names in shapefile not found in crime data: ['alameda/beaumont-wilshire', 'alameda/irvington', 'ardenwald-johnson creek', 'ardenwald-johnson creek/woodstock', 'argay terrace', 'argay terrace/wilkes', 'arlington heights/sylvan-highlands', 'ashcreek/crestwood', 'boise/eliot', 'bridlemile/southwest hills', 'buckman', 'centennial/pleasant valley', 'eastmoreland/ardenwald-johnson creek', 'eastmoreland/reed', 'forest park/linnton', 'forest park/northwest district', 'goose hollow/southwest hills', 'grant park/hollywood', 'hazelwood/mill park', 'healy heights/southwest hills', 'hillside/northwest district', 'lents/powellhurst-gilbert', \"lloyd/sullivan's gulch\", 'mc unclaimed #11', 'mc unclaimed #13', 'mc unclaimed #14', 'mc unclaimed #5', 'mt. scott-arleta', 'mt. tabor', 'northwest district', 'old town', 'pearl district', 'pleasant valley/powellhurst-gilbert', 'portland downtown', 'roseway/madison south', 'sabin/irvington', 'st. johns', \"sullivan's gulch/grant park\", 'sylvan-highlands/southwest hills']\n"
     ]
    }
   ],
   "source": [
    "# Names in crime data not found in shapefile\n",
    "missing_in_shapefile = unique_crime_neighborhoods - unique_shapefile_neighborhoods\n",
    "# Names in shapefile not found in crime data\n",
    "missing_in_crime_data = unique_shapefile_neighborhoods - unique_crime_neighborhoods\n",
    "\n",
    "missing_in_shapefile_sorted = sorted([str(item) for item in missing_in_shapefile])\n",
    "missing_in_crime_data_sorted = sorted([str(item) for item in missing_in_crime_data])\n",
    "\n",
    "print(\"Names in crime data not found in shapefile:\", missing_in_shapefile_sorted)\n",
    "print(\"Names in shapefile not found in crime data:\", missing_in_crime_data_sorted)"
   ]
  },
  {
   "cell_type": "code",
   "execution_count": 9,
   "id": "a9e21e10",
   "metadata": {},
   "outputs": [],
   "source": [
    "name_mapping = {\n",
    "    'ardenwald': 'ardenwald-johnson creek',\n",
    "    'argay': 'argay terrace',\n",
    "    'buckman east': 'buckman',  # Assuming you want to merge east/west\n",
    "    'buckman west': 'buckman',  # Assuming you want to merge east/west\n",
    "    'downtown': 'portland downtown',\n",
    "    'healy heights': 'healy heights/southwest hills',\n",
    "    'mt scott-arleta': 'mt. scott-arleta',\n",
    "    'mt tabor': 'mt. tabor',\n",
    "    'northwest': 'northwest district',\n",
    "    'northwest industrial': 'northwest district',  # Assuming you want to merge; adjust based on your analysis\n",
    "    'old town/chinatown': 'old town',  # Decide based on which name is more encompassing or split entries\n",
    "    'pearl': 'pearl district',\n",
    "    'st johns': 'st. johns',\n",
    "    'nan': None  # Decide how to handle 'nan'; perhaps exclude these records or map them to a placeholder\n",
    "}"
   ]
  },
  {
   "cell_type": "code",
   "execution_count": 10,
   "id": "c7c2d12f",
   "metadata": {},
   "outputs": [],
   "source": [
    "crimes['Neighborhood'] = crimes['Neighborhood'].map(name_mapping).fillna(crimes['Neighborhood'])"
   ]
  },
  {
   "cell_type": "code",
   "execution_count": 11,
   "id": "90c32fc5",
   "metadata": {},
   "outputs": [
    {
     "name": "stdout",
     "output_type": "stream",
     "text": [
      "Names in crime data not found in shapefile: ['nan']\n",
      "Names in shapefile not found in crime data: ['alameda/beaumont-wilshire', 'alameda/irvington', 'ardenwald-johnson creek/woodstock', 'argay terrace/wilkes', 'arlington heights/sylvan-highlands', 'ashcreek/crestwood', 'boise/eliot', 'bridlemile/southwest hills', 'centennial/pleasant valley', 'eastmoreland/ardenwald-johnson creek', 'eastmoreland/reed', 'forest park/linnton', 'forest park/northwest district', 'goose hollow/southwest hills', 'grant park/hollywood', 'hazelwood/mill park', 'hillside/northwest district', 'lents/powellhurst-gilbert', \"lloyd/sullivan's gulch\", 'mc unclaimed #11', 'mc unclaimed #13', 'mc unclaimed #14', 'mc unclaimed #5', 'pleasant valley/powellhurst-gilbert', 'roseway/madison south', 'sabin/irvington', \"sullivan's gulch/grant park\", 'sylvan-highlands/southwest hills']\n"
     ]
    }
   ],
   "source": [
    "# Assuming 'neighborhood_column_in_csv' and 'neighborhood_column_in_shapefile' are the correct column names\n",
    "unique_crime_neighborhoods = set(crimes['Neighborhood'].unique())\n",
    "unique_shapefile_neighborhoods = set(neighborhoods_gdf['MAPLABEL'].unique())\n",
    "# Names in crime data not found in shapefile\n",
    "missing_in_shapefile = unique_crime_neighborhoods - unique_shapefile_neighborhoods\n",
    "# Names in shapefile not found in crime data\n",
    "missing_in_crime_data = unique_shapefile_neighborhoods - unique_crime_neighborhoods\n",
    "\n",
    "missing_in_shapefile_sorted = sorted([str(item) for item in missing_in_shapefile])\n",
    "missing_in_crime_data_sorted = sorted([str(item) for item in missing_in_crime_data])\n",
    "\n",
    "print(\"Names in crime data not found in shapefile:\", missing_in_shapefile_sorted)\n",
    "print(\"Names in shapefile not found in crime data:\", missing_in_crime_data_sorted)"
   ]
  },
  {
   "cell_type": "code",
   "execution_count": 12,
   "id": "bee18f1b",
   "metadata": {},
   "outputs": [],
   "source": [
    "# Violent and non-violent classification\n",
    "crime_categories = {\n",
    "    # Violent Crimes\n",
    "    'Assault Offenses': 'Violent',\n",
    "    'Robbery': 'Violent',\n",
    "    'Homicide Offenses': 'Violent',\n",
    "    'Kidnapping/Abduction': 'Violent',\n",
    "    'Animal Cruelty Offenses': 'Violent', # Adjust based on severity\n",
    "    'Human Trafficking Offenses': 'Violent',\n",
    "    'Sex Offenses': 'Violent',\n",
    "\n",
    "    # Non-Violent Crimes\n",
    "    'Larceny Offenses': 'Non-Violent',\n",
    "    'Motor Vehicle Theft': 'Non-Violent',\n",
    "    'Burglary': 'Non-Violent',\n",
    "    'Fraud Offenses': 'Non-Violent',\n",
    "    'Weapon Law Violations': 'Non-Violent', # May be violent in specific contexts\n",
    "    'Drug/Narcotic Offenses': 'Non-Violent', # May be violent in specific contexts\n",
    "    'Counterfeiting/Forgery': 'Non-Violent',\n",
    "    'Prostitution Offenses': 'Non-Violent',\n",
    "    'Stolen Property Offenses': 'Non-Violent',\n",
    "    'Embezzlement': 'Non-Violent',\n",
    "    'Extortion/Blackmail': 'Non-Violent',\n",
    "    'Bribery': 'Non-Violent',\n",
    "    'Pornography/Obscene Material': 'Non-Violent',\n",
    "\n",
    "    # Grey Areas (Categorize based on specific data and context)\n",
    "    'Vandalism': 'Vandalism',\n",
    "\n",
    "}\n",
    "\n",
    "# Map each crime to its category\n",
    "crimes['CrimeCategory'] = crimes['OffenseCategory'].map(crime_categories)"
   ]
  },
  {
   "cell_type": "code",
   "execution_count": 13,
   "id": "18334a13",
   "metadata": {},
   "outputs": [
    {
     "name": "stdout",
     "output_type": "stream",
     "text": [
      "                         Non-Violent_2015  Vandalism_2015  Violent_2015  \\\n",
      "Neighborhood                                                              \n",
      "alameda                              85.0            12.0           7.0   \n",
      "arbor lodge                         266.0            27.0          36.0   \n",
      "ardenwald-johnson creek              19.0             0.0           1.0   \n",
      "argay terrace                       301.0            32.0          61.0   \n",
      "arlington heights                    56.0             8.0           2.0   \n",
      "...                                   ...             ...           ...   \n",
      "west portland park                   38.0            10.0          17.0   \n",
      "wilkes                              247.0            40.0          45.0   \n",
      "woodland park                        14.0             2.0           4.0   \n",
      "woodlawn                            108.0            23.0          34.0   \n",
      "woodstock                           285.0            43.0          41.0   \n",
      "\n",
      "                         Non-Violent_2016  Vandalism_2016  Violent_2016  \\\n",
      "Neighborhood                                                              \n",
      "alameda                             125.0            10.0           4.0   \n",
      "arbor lodge                         454.0            40.0          51.0   \n",
      "ardenwald-johnson creek              30.0             3.0           5.0   \n",
      "argay terrace                       454.0            77.0          87.0   \n",
      "arlington heights                   140.0            10.0           3.0   \n",
      "...                                   ...             ...           ...   \n",
      "west portland park                  100.0            18.0          34.0   \n",
      "wilkes                              340.0            72.0          69.0   \n",
      "woodland park                        22.0             3.0           4.0   \n",
      "woodlawn                            149.0            32.0          55.0   \n",
      "woodstock                           409.0            40.0          38.0   \n",
      "\n",
      "                         Non-Violent_2017  Vandalism_2017  Violent_2017  \\\n",
      "Neighborhood                                                              \n",
      "alameda                             123.0            13.0          13.0   \n",
      "arbor lodge                         423.0            47.0          69.0   \n",
      "ardenwald-johnson creek              32.0             5.0           6.0   \n",
      "argay terrace                       560.0            73.0          74.0   \n",
      "arlington heights                    46.0             6.0           4.0   \n",
      "...                                   ...             ...           ...   \n",
      "west portland park                  101.0            28.0          35.0   \n",
      "wilkes                              463.0            75.0          86.0   \n",
      "woodland park                        13.0             3.0           6.0   \n",
      "woodlawn                            161.0            32.0          52.0   \n",
      "woodstock                           466.0            62.0          55.0   \n",
      "\n",
      "                         Non-Violent_2018  ...  Violent_1975  Vandalism_1967  \\\n",
      "Neighborhood                               ...                                 \n",
      "alameda                             127.0  ...           0.0             0.0   \n",
      "arbor lodge                         357.0  ...           0.0             0.0   \n",
      "ardenwald-johnson creek              50.0  ...           0.0             0.0   \n",
      "argay terrace                       448.0  ...           0.0             0.0   \n",
      "arlington heights                    61.0  ...           0.0             0.0   \n",
      "...                                   ...  ...           ...             ...   \n",
      "west portland park                  119.0  ...           0.0             0.0   \n",
      "wilkes                              405.0  ...           0.0             0.0   \n",
      "woodland park                        26.0  ...           0.0             0.0   \n",
      "woodlawn                            249.0  ...           0.0             0.0   \n",
      "woodstock                           385.0  ...           0.0             0.0   \n",
      "\n",
      "                         Non-Violent_1981  Non-Violent_1991  Violent_1990  \\\n",
      "Neighborhood                                                                \n",
      "alameda                               0.0               0.0           0.0   \n",
      "arbor lodge                           0.0               0.0           0.0   \n",
      "ardenwald-johnson creek               0.0               0.0           0.0   \n",
      "argay terrace                         0.0               0.0           0.0   \n",
      "arlington heights                     0.0               0.0           0.0   \n",
      "...                                   ...               ...           ...   \n",
      "west portland park                    0.0               0.0           0.0   \n",
      "wilkes                                0.0               0.0           0.0   \n",
      "woodland park                         0.0               0.0           0.0   \n",
      "woodlawn                              0.0               0.0           0.0   \n",
      "woodstock                             0.0               0.0           0.0   \n",
      "\n",
      "                         Non-Violent_1950  Non-Violent_1989  Non-Violent_1996  \\\n",
      "Neighborhood                                                                    \n",
      "alameda                               0.0               0.0               0.0   \n",
      "arbor lodge                           0.0               0.0               0.0   \n",
      "ardenwald-johnson creek               0.0               0.0               0.0   \n",
      "argay terrace                         0.0               0.0               0.0   \n",
      "arlington heights                     0.0               0.0               0.0   \n",
      "...                                   ...               ...               ...   \n",
      "west portland park                    0.0               0.0               0.0   \n",
      "wilkes                                0.0               0.0               0.0   \n",
      "woodland park                         0.0               0.0               0.0   \n",
      "woodlawn                              0.0               0.0               0.0   \n",
      "woodstock                             0.0               0.0               0.0   \n",
      "\n",
      "                         Violent_1982  Non-Violent_1963  \n",
      "Neighborhood                                             \n",
      "alameda                           0.0               0.0  \n",
      "arbor lodge                       0.0               0.0  \n",
      "ardenwald-johnson creek           0.0               0.0  \n",
      "argay terrace                     0.0               0.0  \n",
      "arlington heights                 0.0               0.0  \n",
      "...                               ...               ...  \n",
      "west portland park                0.0               0.0  \n",
      "wilkes                            0.0               0.0  \n",
      "woodland park                     0.0               0.0  \n",
      "woodlawn                          0.0               0.0  \n",
      "woodstock                         0.0               0.0  \n",
      "\n",
      "[94 rows x 107 columns]\n"
     ]
    }
   ],
   "source": [
    "# Aggregate data\n",
    "aggregated_data = crimes.groupby(['Neighborhood', 'Year', 'CrimeCategory']).size().unstack(level=[1, 2]).fillna(0)\n",
    "\n",
    "# Flatten the DataFrame and create column names as specified\n",
    "new_column_names = [f'{year}_{category}' for category, year in aggregated_data.columns]\n",
    "aggregated_data.columns = new_column_names\n",
    "print(aggregated_data)"
   ]
  },
  {
   "cell_type": "code",
   "execution_count": 14,
   "id": "c39fe40f",
   "metadata": {},
   "outputs": [],
   "source": [
    "aggregated_data.reset_index(inplace=True)"
   ]
  },
  {
   "cell_type": "code",
   "execution_count": 15,
   "id": "e7dda01a",
   "metadata": {},
   "outputs": [
    {
     "name": "stdout",
     "output_type": "stream",
     "text": [
      "              Neighborhood  Non-Violent_2015  Vandalism_2015  Violent_2015  \\\n",
      "0                  alameda              85.0            12.0           7.0   \n",
      "1              arbor lodge             266.0            27.0          36.0   \n",
      "2  ardenwald-johnson creek              19.0             0.0           1.0   \n",
      "3            argay terrace             301.0            32.0          61.0   \n",
      "4        arlington heights              56.0             8.0           2.0   \n",
      "\n",
      "   Non-Violent_2016  Vandalism_2016  Violent_2016  Non-Violent_2017  \\\n",
      "0             125.0            10.0           4.0             123.0   \n",
      "1             454.0            40.0          51.0             423.0   \n",
      "2              30.0             3.0           5.0              32.0   \n",
      "3             454.0            77.0          87.0             560.0   \n",
      "4             140.0            10.0           3.0              46.0   \n",
      "\n",
      "   Vandalism_2017  Violent_2017  ...  Violent_1975  Vandalism_1967  \\\n",
      "0            13.0          13.0  ...           0.0             0.0   \n",
      "1            47.0          69.0  ...           0.0             0.0   \n",
      "2             5.0           6.0  ...           0.0             0.0   \n",
      "3            73.0          74.0  ...           0.0             0.0   \n",
      "4             6.0           4.0  ...           0.0             0.0   \n",
      "\n",
      "   Non-Violent_1981  Non-Violent_1991  Violent_1990  Non-Violent_1950  \\\n",
      "0               0.0               0.0           0.0               0.0   \n",
      "1               0.0               0.0           0.0               0.0   \n",
      "2               0.0               0.0           0.0               0.0   \n",
      "3               0.0               0.0           0.0               0.0   \n",
      "4               0.0               0.0           0.0               0.0   \n",
      "\n",
      "   Non-Violent_1989  Non-Violent_1996  Violent_1982  Non-Violent_1963  \n",
      "0               0.0               0.0           0.0               0.0  \n",
      "1               0.0               0.0           0.0               0.0  \n",
      "2               0.0               0.0           0.0               0.0  \n",
      "3               0.0               0.0           0.0               0.0  \n",
      "4               0.0               0.0           0.0               0.0  \n",
      "\n",
      "[5 rows x 108 columns]\n"
     ]
    }
   ],
   "source": [
    "print(aggregated_data.head())"
   ]
  },
  {
   "cell_type": "code",
   "execution_count": 16,
   "id": "5a83a255",
   "metadata": {},
   "outputs": [],
   "source": [
    "# Perform an attribute join\n",
    "joined_gdf = neighborhoods_gdf.merge(aggregated_data, how='left', left_on='MAPLABEL', right_on='Neighborhood')"
   ]
  },
  {
   "cell_type": "code",
   "execution_count": 17,
   "id": "94c8a2a4",
   "metadata": {},
   "outputs": [],
   "source": [
    "# Remove rows where 'Neighborhood' is null\n",
    "cleaned_gdf = joined_gdf.dropna(subset=['Neighborhood'])"
   ]
  },
  {
   "cell_type": "code",
   "execution_count": 18,
   "id": "49d13d23",
   "metadata": {},
   "outputs": [
    {
     "name": "stdout",
     "output_type": "stream",
     "text": [
      "   OBJECTID             NAME COMMPLAN SHARED COALIT HORZ_VERT    Shape_Leng  \\\n",
      "0         1          LINNTON     None      N   NWNW      HORZ  53244.045538   \n",
      "2         3      FOREST PARK     None      N   NWNW      HORZ  82725.497522   \n",
      "3         4   CATHEDRAL PARK     None      N   NPNS      HORZ  11434.254777   \n",
      "4         5  UNIVERSITY PARK     None      N   NPNS      HORZ  11950.859827   \n",
      "6         7         PIEDMONT   ALBINA      N   NPNS      VERT  10849.327392   \n",
      "\n",
      "          MAPLABEL  ID                                           geometry  \\\n",
      "0          linnton   1  POLYGON ((-13669901.863 5719574.412, -13669574...   \n",
      "2      forest park   3  POLYGON ((-13669096.892 5708277.357, -13669210...   \n",
      "3   cathedral park   4  POLYGON ((-13666093.373 5714122.821, -13666569...   \n",
      "4  university park   5  POLYGON ((-13663193.115 5713925.450, -13662883...   \n",
      "6         piedmont   7  POLYGON ((-13656168.594 5714345.257, -13656114...   \n",
      "\n",
      "   ... Violent_1975  Vandalism_1967  Non-Violent_1981  Non-Violent_1991  \\\n",
      "0  ...          0.0             0.0               0.0               0.0   \n",
      "2  ...          0.0             0.0               0.0               0.0   \n",
      "3  ...          0.0             0.0               0.0               0.0   \n",
      "4  ...          0.0             0.0               0.0               0.0   \n",
      "6  ...          1.0             0.0               0.0               0.0   \n",
      "\n",
      "   Violent_1990  Non-Violent_1950  Non-Violent_1989  Non-Violent_1996  \\\n",
      "0           0.0               0.0               0.0               0.0   \n",
      "2           0.0               0.0               0.0               0.0   \n",
      "3           0.0               0.0               0.0               0.0   \n",
      "4           0.0               0.0               0.0               0.0   \n",
      "6           0.0               0.0               0.0               0.0   \n",
      "\n",
      "   Violent_1982  Non-Violent_1963  \n",
      "0           0.0               0.0  \n",
      "2           0.0               0.0  \n",
      "3           0.0               0.0  \n",
      "4           0.0               0.0  \n",
      "6           0.0               0.0  \n",
      "\n",
      "[5 rows x 118 columns]\n",
      "MAPLABEL        0\n",
      "Neighborhood    0\n",
      "dtype: int64\n"
     ]
    }
   ],
   "source": [
    "# Preview the first few rows\n",
    "print(cleaned_gdf.head())\n",
    "\n",
    "# Check for missing values in key columns, adjust column names as needed\n",
    "print(cleaned_gdf[['MAPLABEL', 'Neighborhood']].isnull().sum())"
   ]
  },
  {
   "cell_type": "code",
   "execution_count": 36,
   "id": "6787f84e",
   "metadata": {},
   "outputs": [],
   "source": [
    "# Convert to centroids if necessary\n",
    "cleaned_gdf['geometry'] = cleaned_gdf.geometry.centroid"
   ]
  },
  {
   "cell_type": "code",
   "execution_count": 20,
   "id": "1f558106",
   "metadata": {},
   "outputs": [],
   "source": [
    "cleaned_gdf.to_file('PDX_Crime15_23_Hood.geojson', driver='GeoJSON')\n"
   ]
  }
 ],
 "metadata": {
  "kernelspec": {
   "display_name": "Python 3 (ipykernel)",
   "language": "python",
   "name": "python3"
  },
  "language_info": {
   "codemirror_mode": {
    "name": "ipython",
    "version": 3
   },
   "file_extension": ".py",
   "mimetype": "text/x-python",
   "name": "python",
   "nbconvert_exporter": "python",
   "pygments_lexer": "ipython3",
   "version": "3.11.5"
  }
 },
 "nbformat": 4,
 "nbformat_minor": 5
}
