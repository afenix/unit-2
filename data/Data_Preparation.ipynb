{
 "cells": [
  {
   "cell_type": "code",
   "execution_count": 28,
   "id": "c8b2dc28",
   "metadata": {},
   "outputs": [],
   "source": [
    "import pandas as pd\n",
    "\n",
    "# Load your CSV data into a pandas DataFrame\n",
    "df = pd.read_csv('data/crime/CrimeData-2023.csv')"
   ]
  },
  {
   "cell_type": "code",
   "execution_count": 29,
   "id": "d5492600",
   "metadata": {},
   "outputs": [],
   "source": [
    "# Violent and non-violent classification \n",
    "crime_categories = {\n",
    "    # Violent Crimes\n",
    "    'Assault Offenses': 'Violent',\n",
    "    'Robbery': 'Violent',\n",
    "    'Homicide Offenses': 'Violent',\n",
    "    'Kidnapping/Abduction': 'Violent',\n",
    "    'Animal Cruelty Offenses': 'Violent', # Adjust based on severity\n",
    "    'Human Trafficking Offenses': 'Violent',\n",
    "    'Sex Offenses': 'Violent',\n",
    "\n",
    "    # Non-Violent Crimes\n",
    "    'Larceny Offenses': 'Non-Violent',\n",
    "    'Vandalism': 'Non-Violent',\n",
    "    'Motor Vehicle Theft': 'Non-Violent',\n",
    "    'Burglary': 'Non-Violent',\n",
    "    'Fraud Offenses': 'Non-Violent',\n",
    "    'Weapon Law Violations': 'Non-Violent', # May be violent in specific contexts\n",
    "    'Drug/Narcotic Offenses': 'Non-Violent', # May be violent in specific contexts\n",
    "    'Counterfeiting/Forgery': 'Non-Violent',\n",
    "    'Prostitution Offenses': 'Non-Violent',\n",
    "    'Stolen Property Offenses': 'Non-Violent',\n",
    "    'Embezzlement': 'Non-Violent',\n",
    "    'Extortion/Blackmail': 'Non-Violent',\n",
    "    'Bribery': 'Non-Violent',\n",
    "\n",
    "    # Grey Areas (Categorize based on specific data and context)\n",
    "    'Pornography/Obscene Material': 'Grey Area',\n",
    "\n",
    "}\n",
    "\n",
    "# Map each crime to its category\n",
    "df['CrimeCategory'] = df['OffenseCategory'].map(crime_categories)\n"
   ]
  },
  {
   "cell_type": "code",
   "execution_count": 30,
   "id": "246761b5",
   "metadata": {},
   "outputs": [],
   "source": [
    "# Convert 'OccurDate' to datetime\n",
    "df['OccurDate'] = pd.to_datetime(df['OccurDate'])\n",
    "\n",
    "# Extract month and year from 'OccurDate'\n",
    "df['Month'] = df['OccurDate'].dt.month\n",
    "df['Year'] = df['OccurDate'].dt.year\n",
    "df['Occur_Month_Year'] = df['OccurDate'].dt.strftime('%Y-%m')"
   ]
  },
  {
   "cell_type": "code",
   "execution_count": null,
   "id": "48e03ca8",
   "metadata": {},
   "outputs": [],
   "source": []
  },
  {
   "cell_type": "code",
   "execution_count": 31,
   "id": "04cc0621",
   "metadata": {},
   "outputs": [],
   "source": [
    "# Aggregate total counts by Neighborhood, Occur Month Year, and CrimeCategory\n",
    "total_counts = df.pivot_table(index=['Neighborhood', 'Occur_Month_Year'],\n",
    "                              columns='CrimeCategory',\n",
    "                              values='OffenseCount',\n",
    "                              aggfunc='sum',\n",
    "                              fill_value=0).reset_index()\n",
    "\n",
    "# Detailed aggregation by OffenseCategory\n",
    "category_counts = df.pivot_table(index=['Neighborhood', 'Occur_Month_Year'],\n",
    "                                 columns='OffenseCategory',\n",
    "                                 values='OffenseCount',\n",
    "                                 aggfunc='sum',\n",
    "                                 fill_value=0).reset_index()\n"
   ]
  },
  {
   "cell_type": "code",
   "execution_count": 32,
   "id": "078c449d",
   "metadata": {},
   "outputs": [],
   "source": [
    "# Since we're working with pivot tables, direct merge is more straightforward\n",
    "# Ensure both DataFrames have the same 'Neighborhood' and 'Occur_Month_Year' structure\n",
    "final_summary = pd.merge(total_counts, category_counts, on=['Neighborhood', 'Occur_Month_Year'], how='outer')\n"
   ]
  },
  {
   "cell_type": "code",
   "execution_count": null,
   "id": "a21a5e8e",
   "metadata": {},
   "outputs": [],
   "source": []
  },
  {
   "cell_type": "code",
   "execution_count": 33,
   "id": "8fda127a",
   "metadata": {},
   "outputs": [],
   "source": [
    "final_summary.reset_index(inplace=True)"
   ]
  },
  {
   "cell_type": "code",
   "execution_count": 34,
   "id": "e5b75a7e",
   "metadata": {},
   "outputs": [
    {
     "name": "stdout",
     "output_type": "stream",
     "text": [
      "   index Neighborhood Occur_Month_Year  Grey Area  Non-Violent  Violent  \\\n",
      "0      0      Alameda          2022-12          0            7        0   \n",
      "1      1      Alameda          2023-01          0           17        0   \n",
      "2      2      Alameda          2023-02          0           12        2   \n",
      "3      3      Alameda          2023-03          0           13        0   \n",
      "4      4      Alameda          2023-04          0           14        3   \n",
      "\n",
      "   Animal Cruelty Offenses  Arson  Assault Offenses  Bribery  ...  \\\n",
      "0                        0      0                 0        0  ...   \n",
      "1                        0      0                 0        0  ...   \n",
      "2                        0      0                 2        0  ...   \n",
      "3                        0      0                 0        0  ...   \n",
      "4                        0      0                 3        0  ...   \n",
      "\n",
      "   Kidnapping/Abduction  Larceny Offenses  Motor Vehicle Theft  \\\n",
      "0                     0                 4                    1   \n",
      "1                     0                 7                    7   \n",
      "2                     0                 4                    1   \n",
      "3                     0                 5                    2   \n",
      "4                     0                 1                    7   \n",
      "\n",
      "   Pornography/Obscene Material  Prostitution Offenses  Robbery  Sex Offenses  \\\n",
      "0                             0                      0        0             0   \n",
      "1                             0                      0        0             0   \n",
      "2                             0                      0        0             0   \n",
      "3                             0                      0        0             0   \n",
      "4                             0                      0        0             0   \n",
      "\n",
      "   Stolen Property Offenses  Vandalism  Weapon Law Violations  \n",
      "0                         0          0                      0  \n",
      "1                         0          2                      0  \n",
      "2                         0          5                      0  \n",
      "3                         0          3                      0  \n",
      "4                         0          1                      0  \n",
      "\n",
      "[5 rows x 28 columns]\n"
     ]
    }
   ],
   "source": [
    "# Reset index if necessary (here it seems not needed as merge doesn't set an index)\n",
    "print(final_summary.head())"
   ]
  },
  {
   "cell_type": "code",
   "execution_count": 35,
   "id": "6845eb19",
   "metadata": {},
   "outputs": [],
   "source": [
    "final_summary.to_csv('data/crime/aggregated_crime_data23v4.csv', index=False)"
   ]
  },
  {
   "cell_type": "code",
   "execution_count": null,
   "id": "b3450624",
   "metadata": {},
   "outputs": [],
   "source": []
  }
 ],
 "metadata": {
  "kernelspec": {
   "display_name": "Python 3 (ipykernel)",
   "language": "python",
   "name": "python3"
  },
  "language_info": {
   "codemirror_mode": {
    "name": "ipython",
    "version": 3
   },
   "file_extension": ".py",
   "mimetype": "text/x-python",
   "name": "python",
   "nbconvert_exporter": "python",
   "pygments_lexer": "ipython3",
   "version": "3.9.18"
  }
 },
 "nbformat": 4,
 "nbformat_minor": 5
}
